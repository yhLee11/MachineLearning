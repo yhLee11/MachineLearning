{
  "nbformat": 4,
  "nbformat_minor": 0,
  "metadata": {
    "colab": {
      "name": "decision_tree.ipynb",
      "provenance": [],
      "collapsed_sections": []
    },
    "kernelspec": {
      "name": "python3",
      "display_name": "Python 3"
    },
    "language_info": {
      "name": "python"
    }
  },
  "cells": [
    {
      "cell_type": "code",
      "metadata": {
        "id": "Sqk7wGdTOHPD",
        "colab": {
          "base_uri": "https://localhost:8080/"
        },
        "outputId": "4f6e7d4c-a1d6-4c3e-b593-589d7d113910"
      },
      "source": [
        "from google.colab import drive\n",
        "drive.mount(\"/gdrive\", force_remount=True)"
      ],
      "execution_count": 8,
      "outputs": [
        {
          "output_type": "stream",
          "name": "stdout",
          "text": [
            "Mounted at /gdrive\n"
          ]
        }
      ]
    },
    {
      "cell_type": "code",
      "metadata": {
        "id": "YG51p4shPlaG",
        "colab": {
          "base_uri": "https://localhost:8080/"
        },
        "outputId": "686d1786-4b62-4f02-a781-f64d7b78ddff"
      },
      "source": [
        "import pandas as pd\n",
        "from sklearn.preprocessing import LabelEncoder\n",
        "from sklearn import tree\n",
        "import graphviz \n",
        "\n",
        "# 데이터 경로\n",
        "file_path = \"/gdrive/MyDrive/ML/PlayTennis.csv\"\n",
        "# 데이터 경로로부터 파일을 읽음 (pandas 라이브러리 사용)\n",
        "datas = pd.read_csv(file_path)\n",
        "\n",
        "# 데이터 출력 (데이터 형태 확인)\n",
        "print(datas)"
      ],
      "execution_count": 46,
      "outputs": [
        {
          "output_type": "stream",
          "name": "stdout",
          "text": [
            "     outlook  temp humidity  windy play date      time\n",
            "0      sunny   hot     high  False   no  Sun  10-45-12\n",
            "1      sunny   hot     high   True   no  Sun  16-01-50\n",
            "2   overcast   hot     high  False  yes  Mon  15-35-05\n",
            "3      rainy  mild     high  False  yes  Tue  09-48-10\n",
            "4      rainy  cool   normal  False  yes  Tue  22-15-30\n",
            "5      rainy  cool   normal   True   no  Wed  19-28-09\n",
            "6   overcast  cool   normal   True  yes  Thu  12-56-53\n",
            "7      sunny  mild     high  False   no  Sat  07-53-14\n",
            "8      sunny  cool   normal  False  yes  Sun  15-36-11\n",
            "9      rainy  mild   normal  False  yes  Mon  16-08-37\n",
            "10     sunny  mild   normal   True  yes  Tue  20-17-46\n",
            "11  overcast  mild     high   True  yes  Wed  18-26-58\n",
            "12  overcast   hot   normal  False  yes  Wed  13-22-33\n",
            "13     rainy  mild     high   True   no  Thu  18-39-20\n"
          ]
        }
      ]
    },
    {
      "cell_type": "markdown",
      "metadata": {
        "id": "nBrp3zuoAEcq"
      },
      "source": [
        "#1. time 값을 시간,분,초의 3개 feature value로 분할\n",
        "###하나의 feature value를 개의 feature value로 분할하면 확률값을 더 세분화하여 조절할 수 있습니다. 그 결과 성능을 향상시킬 수 있습니다."
      ]
    },
    {
      "cell_type": "code",
      "metadata": {
        "colab": {
          "base_uri": "https://localhost:8080/"
        },
        "id": "9xu43hd3YBEE",
        "outputId": "c5fb0b8b-a2d2-4ef2-eb4a-6500a73bbf67"
      },
      "source": [
        "# 범주형 데이터를 수치형 데이터로 자동 변환해주는 라이브러리\n",
        "label_encoder = LabelEncoder()\n",
        "\n",
        "# 정답 클래스 이름 (yes, no)\n",
        "target_names = label_encoder.fit(datas['play']).classes_\n",
        "print(\"target_names : {}\".format(target_names))\n",
        "\n",
        "datas['outlook'] = label_encoder.fit_transform(datas['outlook'])\n",
        "datas['temp'] = label_encoder.fit_transform(datas['temp'])\n",
        "datas['humidity'] = label_encoder.fit_transform(datas['humidity'])\n",
        "datas['windy'] = label_encoder.fit_transform(datas['windy'])\n",
        "datas['play'] = label_encoder.fit_transform(datas['play'])\n",
        "datas['date'] = label_encoder.fit_transform(datas['date'])\n",
        "\n",
        "#time 값을 3개의 feature value로 분할\n",
        "times=datas.time\n",
        "hour,minute,second=[],[],[]\n",
        "for i in times:\n",
        "  t=i.split('-')\n",
        "  hour.append(t[0])\n",
        "  minute.append(t[1])\n",
        "  second.append(t[2])\n",
        "\n",
        "datas['hour']=label_encoder.fit_transform(hour)\n",
        "datas['minute']=label_encoder.fit_transform(minute)\n",
        "datas['second']=label_encoder.fit_transform(second)\n",
        "\n",
        "datas=datas.drop(['time'],axis=1)\n",
        "# 데이터 출력 (데이터 포맷 변환 후 결과 확인)\n",
        "print(datas)"
      ],
      "execution_count": 47,
      "outputs": [
        {
          "output_type": "stream",
          "name": "stdout",
          "text": [
            "target_names : ['no' 'yes']\n",
            "    outlook  temp  humidity  windy  play  date  hour  minute  second\n",
            "0         2     1         0      0     0     2     2      10       4\n",
            "1         2     1         0      1     0     2     6       0      11\n",
            "2         0     1         0      0     1     0     5       7       0\n",
            "3         1     2         0      0     1     4     1      11       2\n",
            "4         1     0         1      0     1     4    10       2       7\n",
            "5         1     0         1      1     0     5     8       6       1\n",
            "6         0     0         1      1     1     3     3      13      12\n",
            "7         2     2         0      0     0     1     0      12       5\n",
            "8         2     0         1      0     1     2     5       8       3\n",
            "9         1     2         1      0     1     0     6       1       9\n",
            "10        2     2         1      1     1     4     9       3      10\n",
            "11        0     2         0      1     1     5     7       5      13\n",
            "12        0     1         1      0     1     5     4       4       8\n",
            "13        1     2         0      1     0     3     7       9       6\n"
          ]
        }
      ]
    },
    {
      "cell_type": "code",
      "metadata": {
        "id": "-jtuUVwyQCZc",
        "colab": {
          "base_uri": "https://localhost:8080/"
        },
        "outputId": "0ea3aae2-2c1e-4239-ef9a-6c63f8ea3a2a"
      },
      "source": [
        "# 입력 데이터와 정답 데이터로 분리\n",
        "x_data, y_data = datas.drop(['play'], axis=1), datas['play']\n",
        "\n",
        "# 분리 결과 확인\n",
        "print(x_data)\n",
        "print()\n",
        "print(y_data)"
      ],
      "execution_count": 49,
      "outputs": [
        {
          "output_type": "stream",
          "name": "stdout",
          "text": [
            "    outlook  temp  humidity  windy  date  hour  minute  second\n",
            "0         2     1         0      0     2     2      10       4\n",
            "1         2     1         0      1     2     6       0      11\n",
            "2         0     1         0      0     0     5       7       0\n",
            "3         1     2         0      0     4     1      11       2\n",
            "4         1     0         1      0     4    10       2       7\n",
            "5         1     0         1      1     5     8       6       1\n",
            "6         0     0         1      1     3     3      13      12\n",
            "7         2     2         0      0     1     0      12       5\n",
            "8         2     0         1      0     2     5       8       3\n",
            "9         1     2         1      0     0     6       1       9\n",
            "10        2     2         1      1     4     9       3      10\n",
            "11        0     2         0      1     5     7       5      13\n",
            "12        0     1         1      0     5     4       4       8\n",
            "13        1     2         0      1     3     7       9       6\n",
            "\n",
            "0     0\n",
            "1     0\n",
            "2     1\n",
            "3     1\n",
            "4     1\n",
            "5     0\n",
            "6     1\n",
            "7     0\n",
            "8     1\n",
            "9     1\n",
            "10    1\n",
            "11    1\n",
            "12    1\n",
            "13    0\n",
            "Name: play, dtype: int64\n"
          ]
        }
      ]
    },
    {
      "cell_type": "code",
      "metadata": {
        "id": "K6hFTzgbYEtU"
      },
      "source": [
        "# Decision tree 모델 학습 ()\n",
        "decision_tree = tree.DecisionTreeClassifier(criterion = 'entropy')\n",
        "train_result = decision_tree.fit(x_data, y_data)"
      ],
      "execution_count": 52,
      "outputs": []
    },
    {
      "cell_type": "code",
      "metadata": {
        "colab": {
          "base_uri": "https://localhost:8080/",
          "height": 597
        },
        "id": "RrLrZwJWYKnb",
        "outputId": "a663a7b9-704f-4f3a-aa93-f7314cf946c4"
      },
      "source": [
        "# 학습 결과 확인 (graphviz 라이브러리 사용)\n",
        "graph = graphviz.Source(tree.export_graphviz(train_result, out_file=None,\n",
        "                                             feature_names=x_data.columns,\n",
        "                                             class_names=target_names)) \n",
        "graph"
      ],
      "execution_count": 53,
      "outputs": [
        {
          "output_type": "execute_result",
          "data": {
            "text/plain": [
              "<graphviz.files.Source at 0x7fc4e3b99f50>"
            ],
            "image/svg+xml": "<?xml version=\"1.0\" encoding=\"UTF-8\" standalone=\"no\"?>\n<!DOCTYPE svg PUBLIC \"-//W3C//DTD SVG 1.1//EN\"\n \"http://www.w3.org/Graphics/SVG/1.1/DTD/svg11.dtd\">\n<!-- Generated by graphviz version 2.40.1 (20161225.0304)\n -->\n<!-- Title: Tree Pages: 1 -->\n<svg width=\"449pt\" height=\"433pt\"\n viewBox=\"0.00 0.00 449.00 433.00\" xmlns=\"http://www.w3.org/2000/svg\" xmlns:xlink=\"http://www.w3.org/1999/xlink\">\n<g id=\"graph0\" class=\"graph\" transform=\"scale(1 1) rotate(0) translate(4 429)\">\n<title>Tree</title>\n<polygon fill=\"#ffffff\" stroke=\"transparent\" points=\"-4,4 -4,-429 445,-429 445,4 -4,4\"/>\n<!-- 0 -->\n<g id=\"node1\" class=\"node\">\n<title>0</title>\n<polygon fill=\"none\" stroke=\"#000000\" points=\"211.5,-425 107.5,-425 107.5,-342 211.5,-342 211.5,-425\"/>\n<text text-anchor=\"middle\" x=\"159.5\" y=\"-409.8\" font-family=\"Times,serif\" font-size=\"14.00\" fill=\"#000000\">outlook &lt;= 0.5</text>\n<text text-anchor=\"middle\" x=\"159.5\" y=\"-394.8\" font-family=\"Times,serif\" font-size=\"14.00\" fill=\"#000000\">entropy = 0.94</text>\n<text text-anchor=\"middle\" x=\"159.5\" y=\"-379.8\" font-family=\"Times,serif\" font-size=\"14.00\" fill=\"#000000\">samples = 14</text>\n<text text-anchor=\"middle\" x=\"159.5\" y=\"-364.8\" font-family=\"Times,serif\" font-size=\"14.00\" fill=\"#000000\">value = [5, 9]</text>\n<text text-anchor=\"middle\" x=\"159.5\" y=\"-349.8\" font-family=\"Times,serif\" font-size=\"14.00\" fill=\"#000000\">class = yes</text>\n</g>\n<!-- 1 -->\n<g id=\"node2\" class=\"node\">\n<title>1</title>\n<polygon fill=\"none\" stroke=\"#000000\" points=\"146,-298.5 51,-298.5 51,-230.5 146,-230.5 146,-298.5\"/>\n<text text-anchor=\"middle\" x=\"98.5\" y=\"-283.3\" font-family=\"Times,serif\" font-size=\"14.00\" fill=\"#000000\">entropy = 0.0</text>\n<text text-anchor=\"middle\" x=\"98.5\" y=\"-268.3\" font-family=\"Times,serif\" font-size=\"14.00\" fill=\"#000000\">samples = 4</text>\n<text text-anchor=\"middle\" x=\"98.5\" y=\"-253.3\" font-family=\"Times,serif\" font-size=\"14.00\" fill=\"#000000\">value = [0, 4]</text>\n<text text-anchor=\"middle\" x=\"98.5\" y=\"-238.3\" font-family=\"Times,serif\" font-size=\"14.00\" fill=\"#000000\">class = yes</text>\n</g>\n<!-- 0&#45;&gt;1 -->\n<g id=\"edge1\" class=\"edge\">\n<title>0&#45;&gt;1</title>\n<path fill=\"none\" stroke=\"#000000\" d=\"M138.1652,-341.8796C132.5285,-330.8835 126.4315,-318.9893 120.7478,-307.9015\"/>\n<polygon fill=\"#000000\" stroke=\"#000000\" points=\"123.7663,-306.1173 116.09,-298.8149 117.5371,-309.3105 123.7663,-306.1173\"/>\n<text text-anchor=\"middle\" x=\"108.4227\" y=\"-318.9101\" font-family=\"Times,serif\" font-size=\"14.00\" fill=\"#000000\">True</text>\n</g>\n<!-- 2 -->\n<g id=\"node3\" class=\"node\">\n<title>2</title>\n<polygon fill=\"none\" stroke=\"#000000\" points=\"276.5,-306 164.5,-306 164.5,-223 276.5,-223 276.5,-306\"/>\n<text text-anchor=\"middle\" x=\"220.5\" y=\"-290.8\" font-family=\"Times,serif\" font-size=\"14.00\" fill=\"#000000\">humidity &lt;= 0.5</text>\n<text text-anchor=\"middle\" x=\"220.5\" y=\"-275.8\" font-family=\"Times,serif\" font-size=\"14.00\" fill=\"#000000\">entropy = 1.0</text>\n<text text-anchor=\"middle\" x=\"220.5\" y=\"-260.8\" font-family=\"Times,serif\" font-size=\"14.00\" fill=\"#000000\">samples = 10</text>\n<text text-anchor=\"middle\" x=\"220.5\" y=\"-245.8\" font-family=\"Times,serif\" font-size=\"14.00\" fill=\"#000000\">value = [5, 5]</text>\n<text text-anchor=\"middle\" x=\"220.5\" y=\"-230.8\" font-family=\"Times,serif\" font-size=\"14.00\" fill=\"#000000\">class = no</text>\n</g>\n<!-- 0&#45;&gt;2 -->\n<g id=\"edge2\" class=\"edge\">\n<title>0&#45;&gt;2</title>\n<path fill=\"none\" stroke=\"#000000\" d=\"M180.8348,-341.8796C185.2207,-333.3236 189.8853,-324.2238 194.417,-315.3833\"/>\n<polygon fill=\"#000000\" stroke=\"#000000\" points=\"197.627,-316.7936 199.0741,-306.2981 191.3978,-313.6004 197.627,-316.7936\"/>\n<text text-anchor=\"middle\" x=\"206.7414\" y=\"-326.3933\" font-family=\"Times,serif\" font-size=\"14.00\" fill=\"#000000\">False</text>\n</g>\n<!-- 3 -->\n<g id=\"node4\" class=\"node\">\n<title>3</title>\n<polygon fill=\"none\" stroke=\"#000000\" points=\"211.5,-187 101.5,-187 101.5,-104 211.5,-104 211.5,-187\"/>\n<text text-anchor=\"middle\" x=\"156.5\" y=\"-171.8\" font-family=\"Times,serif\" font-size=\"14.00\" fill=\"#000000\">date &lt;= 3.5</text>\n<text text-anchor=\"middle\" x=\"156.5\" y=\"-156.8\" font-family=\"Times,serif\" font-size=\"14.00\" fill=\"#000000\">entropy = 0.722</text>\n<text text-anchor=\"middle\" x=\"156.5\" y=\"-141.8\" font-family=\"Times,serif\" font-size=\"14.00\" fill=\"#000000\">samples = 5</text>\n<text text-anchor=\"middle\" x=\"156.5\" y=\"-126.8\" font-family=\"Times,serif\" font-size=\"14.00\" fill=\"#000000\">value = [4, 1]</text>\n<text text-anchor=\"middle\" x=\"156.5\" y=\"-111.8\" font-family=\"Times,serif\" font-size=\"14.00\" fill=\"#000000\">class = no</text>\n</g>\n<!-- 2&#45;&gt;3 -->\n<g id=\"edge3\" class=\"edge\">\n<title>2&#45;&gt;3</title>\n<path fill=\"none\" stroke=\"#000000\" d=\"M198.1159,-222.8796C193.5144,-214.3236 188.6204,-205.2238 183.8658,-196.3833\"/>\n<polygon fill=\"#000000\" stroke=\"#000000\" points=\"186.7988,-194.4473 178.9796,-187.2981 180.6338,-197.763 186.7988,-194.4473\"/>\n</g>\n<!-- 6 -->\n<g id=\"node7\" class=\"node\">\n<title>6</title>\n<polygon fill=\"none\" stroke=\"#000000\" points=\"339.5,-187 229.5,-187 229.5,-104 339.5,-104 339.5,-187\"/>\n<text text-anchor=\"middle\" x=\"284.5\" y=\"-171.8\" font-family=\"Times,serif\" font-size=\"14.00\" fill=\"#000000\">date &lt;= 4.5</text>\n<text text-anchor=\"middle\" x=\"284.5\" y=\"-156.8\" font-family=\"Times,serif\" font-size=\"14.00\" fill=\"#000000\">entropy = 0.722</text>\n<text text-anchor=\"middle\" x=\"284.5\" y=\"-141.8\" font-family=\"Times,serif\" font-size=\"14.00\" fill=\"#000000\">samples = 5</text>\n<text text-anchor=\"middle\" x=\"284.5\" y=\"-126.8\" font-family=\"Times,serif\" font-size=\"14.00\" fill=\"#000000\">value = [1, 4]</text>\n<text text-anchor=\"middle\" x=\"284.5\" y=\"-111.8\" font-family=\"Times,serif\" font-size=\"14.00\" fill=\"#000000\">class = yes</text>\n</g>\n<!-- 2&#45;&gt;6 -->\n<g id=\"edge6\" class=\"edge\">\n<title>2&#45;&gt;6</title>\n<path fill=\"none\" stroke=\"#000000\" d=\"M242.8841,-222.8796C247.4856,-214.3236 252.3796,-205.2238 257.1342,-196.3833\"/>\n<polygon fill=\"#000000\" stroke=\"#000000\" points=\"260.3662,-197.763 262.0204,-187.2981 254.2012,-194.4473 260.3662,-197.763\"/>\n</g>\n<!-- 4 -->\n<g id=\"node5\" class=\"node\">\n<title>4</title>\n<polygon fill=\"none\" stroke=\"#000000\" points=\"95,-68 0,-68 0,0 95,0 95,-68\"/>\n<text text-anchor=\"middle\" x=\"47.5\" y=\"-52.8\" font-family=\"Times,serif\" font-size=\"14.00\" fill=\"#000000\">entropy = 0.0</text>\n<text text-anchor=\"middle\" x=\"47.5\" y=\"-37.8\" font-family=\"Times,serif\" font-size=\"14.00\" fill=\"#000000\">samples = 4</text>\n<text text-anchor=\"middle\" x=\"47.5\" y=\"-22.8\" font-family=\"Times,serif\" font-size=\"14.00\" fill=\"#000000\">value = [4, 0]</text>\n<text text-anchor=\"middle\" x=\"47.5\" y=\"-7.8\" font-family=\"Times,serif\" font-size=\"14.00\" fill=\"#000000\">class = no</text>\n</g>\n<!-- 3&#45;&gt;4 -->\n<g id=\"edge4\" class=\"edge\">\n<title>3&#45;&gt;4</title>\n<path fill=\"none\" stroke=\"#000000\" d=\"M115.9124,-103.9815C106.838,-94.6989 97.2121,-84.8522 88.1357,-75.5677\"/>\n<polygon fill=\"#000000\" stroke=\"#000000\" points=\"90.4887,-72.9678 80.9954,-68.2637 85.4831,-77.8611 90.4887,-72.9678\"/>\n</g>\n<!-- 5 -->\n<g id=\"node6\" class=\"node\">\n<title>5</title>\n<polygon fill=\"none\" stroke=\"#000000\" points=\"208,-68 113,-68 113,0 208,0 208,-68\"/>\n<text text-anchor=\"middle\" x=\"160.5\" y=\"-52.8\" font-family=\"Times,serif\" font-size=\"14.00\" fill=\"#000000\">entropy = 0.0</text>\n<text text-anchor=\"middle\" x=\"160.5\" y=\"-37.8\" font-family=\"Times,serif\" font-size=\"14.00\" fill=\"#000000\">samples = 1</text>\n<text text-anchor=\"middle\" x=\"160.5\" y=\"-22.8\" font-family=\"Times,serif\" font-size=\"14.00\" fill=\"#000000\">value = [0, 1]</text>\n<text text-anchor=\"middle\" x=\"160.5\" y=\"-7.8\" font-family=\"Times,serif\" font-size=\"14.00\" fill=\"#000000\">class = yes</text>\n</g>\n<!-- 3&#45;&gt;5 -->\n<g id=\"edge5\" class=\"edge\">\n<title>3&#45;&gt;5</title>\n<path fill=\"none\" stroke=\"#000000\" d=\"M157.9895,-103.9815C158.2895,-95.618 158.606,-86.7965 158.9093,-78.3409\"/>\n<polygon fill=\"#000000\" stroke=\"#000000\" points=\"162.41,-78.3828 159.2708,-68.2637 155.4145,-78.1317 162.41,-78.3828\"/>\n</g>\n<!-- 7 -->\n<g id=\"node8\" class=\"node\">\n<title>7</title>\n<polygon fill=\"none\" stroke=\"#000000\" points=\"328,-68 233,-68 233,0 328,0 328,-68\"/>\n<text text-anchor=\"middle\" x=\"280.5\" y=\"-52.8\" font-family=\"Times,serif\" font-size=\"14.00\" fill=\"#000000\">entropy = 0.0</text>\n<text text-anchor=\"middle\" x=\"280.5\" y=\"-37.8\" font-family=\"Times,serif\" font-size=\"14.00\" fill=\"#000000\">samples = 4</text>\n<text text-anchor=\"middle\" x=\"280.5\" y=\"-22.8\" font-family=\"Times,serif\" font-size=\"14.00\" fill=\"#000000\">value = [0, 4]</text>\n<text text-anchor=\"middle\" x=\"280.5\" y=\"-7.8\" font-family=\"Times,serif\" font-size=\"14.00\" fill=\"#000000\">class = yes</text>\n</g>\n<!-- 6&#45;&gt;7 -->\n<g id=\"edge7\" class=\"edge\">\n<title>6&#45;&gt;7</title>\n<path fill=\"none\" stroke=\"#000000\" d=\"M283.0105,-103.9815C282.7105,-95.618 282.394,-86.7965 282.0907,-78.3409\"/>\n<polygon fill=\"#000000\" stroke=\"#000000\" points=\"285.5855,-78.1317 281.7292,-68.2637 278.59,-78.3828 285.5855,-78.1317\"/>\n</g>\n<!-- 8 -->\n<g id=\"node9\" class=\"node\">\n<title>8</title>\n<polygon fill=\"none\" stroke=\"#000000\" points=\"441,-68 346,-68 346,0 441,0 441,-68\"/>\n<text text-anchor=\"middle\" x=\"393.5\" y=\"-52.8\" font-family=\"Times,serif\" font-size=\"14.00\" fill=\"#000000\">entropy = 0.0</text>\n<text text-anchor=\"middle\" x=\"393.5\" y=\"-37.8\" font-family=\"Times,serif\" font-size=\"14.00\" fill=\"#000000\">samples = 1</text>\n<text text-anchor=\"middle\" x=\"393.5\" y=\"-22.8\" font-family=\"Times,serif\" font-size=\"14.00\" fill=\"#000000\">value = [1, 0]</text>\n<text text-anchor=\"middle\" x=\"393.5\" y=\"-7.8\" font-family=\"Times,serif\" font-size=\"14.00\" fill=\"#000000\">class = no</text>\n</g>\n<!-- 6&#45;&gt;8 -->\n<g id=\"edge8\" class=\"edge\">\n<title>6&#45;&gt;8</title>\n<path fill=\"none\" stroke=\"#000000\" d=\"M325.0876,-103.9815C334.162,-94.6989 343.7879,-84.8522 352.8643,-75.5677\"/>\n<polygon fill=\"#000000\" stroke=\"#000000\" points=\"355.5169,-77.8611 360.0046,-68.2637 350.5113,-72.9678 355.5169,-77.8611\"/>\n</g>\n</g>\n</svg>\n"
          },
          "metadata": {},
          "execution_count": 53
        }
      ]
    },
    {
      "cell_type": "code",
      "metadata": {
        "colab": {
          "base_uri": "https://localhost:8080/"
        },
        "id": "mEFTasJ5Yaej",
        "outputId": "937af1a6-6680-4528-e9f6-1a89b3e7a831"
      },
      "source": [
        "# 학습한 모델을 사용하여 예측\n",
        "predict_result = decision_tree.predict(x_data)\n",
        "\n",
        "# 예측 결과 출력 (실제 정답을 맞춘 경우 True로 표시됨)\n",
        "print(predict_result == y_data)"
      ],
      "execution_count": 54,
      "outputs": [
        {
          "output_type": "stream",
          "name": "stdout",
          "text": [
            "0     True\n",
            "1     True\n",
            "2     True\n",
            "3     True\n",
            "4     True\n",
            "5     True\n",
            "6     True\n",
            "7     True\n",
            "8     True\n",
            "9     True\n",
            "10    True\n",
            "11    True\n",
            "12    True\n",
            "13    True\n",
            "Name: play, dtype: bool\n"
          ]
        }
      ]
    },
    {
      "cell_type": "code",
      "metadata": {
        "id": "b7gHteB5vVqM"
      },
      "source": [
        ""
      ],
      "execution_count": null,
      "outputs": []
    }
  ]
}
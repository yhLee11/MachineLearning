{
 "nbformat": 4,
 "nbformat_minor": 0,
 "metadata": {
  "colab": {
   "name": "xor.ipynb",
   "provenance": [],
   "collapsed_sections": []
  },
  "kernelspec": {
   "name": "python3",
   "display_name": "Python 3"
  },
  "accelerator": "GPU"
 },
 "cells": [
  {
   "cell_type": "code",
   "metadata": {
    "id": "FdZnDI8azinw",
    "colab": {
     "base_uri": "https://localhost:8080/"
    },
    "executionInfo": {
     "status": "ok",
     "timestamp": 1629177766206,
     "user_tz": -540,
     "elapsed": 23189,
     "user": {
      "displayName": "Harksoo Kim",
      "photoUrl": "",
      "userId": "04506968767642445103"
     }
    },
    "outputId": "61780e23-8e54-4060-bee4-bc769b5e0a58"
   },
   "source": [
    "from google.colab import drive\n",
    "drive.mount(\"/gdrive\", force_remount=True)"
   ],
   "execution_count": 1,
   "outputs": [
    {
     "output_type": "stream",
     "text": [
      "Mounted at /gdrive\n"
     ],
     "name": "stdout"
    }
   ]
  },
  {
   "cell_type": "code",
   "metadata": {
    "id": "JBGiT1Qw_Qzo",
    "colab": {
     "base_uri": "https://localhost:8080/"
    },
    "executionInfo": {
     "status": "ok",
     "timestamp": 1629179279720,
     "user_tz": -540,
     "elapsed": 418,
     "user": {
      "displayName": "Harksoo Kim",
      "photoUrl": "",
      "userId": "04506968767642445103"
     }
    },
    "outputId": "9d4a73e5-fc3a-4dc8-ec04-f5a2d63ba272"
   },
   "source": [
    "import numpy as np\n",
    "import torch\n",
    "\n",
    "# 데이터 읽기 함수\n",
    "def load_dataset(file):\n",
    "\n",
    "  data = np.loadtxt(file)\n",
    "  print(\"DATA=\",data)\n",
    "  \n",
    "  x = data[:,0:-1]\n",
    "  print(\"X=\",x)\n",
    "  \n",
    "  y = np.reshape(data[:,-1],(3,1))\n",
    "  print(\"Y=\",y)\n",
    " \n",
    "  # 텐서로 변경\n",
    "  # 이곳을 채우세요.\n",
    "\n",
    "  return (x, y)\n",
    "\n",
    "# 텐서를 리스트로 바꾸는 함수\n",
    "def tensor2list(input_tensor):\n",
    "  return input_tensor.cpu().detach().numpy().tolist()\n",
    "\n",
    "x, y = load_dataset(\"/gdrive/My Drive/colab/gda/train.txt\")\n",
    "\n",
    "# 가중치 초기화\n",
    "w = torch.randn(1)*3.0\n",
    "print(\"\\nInit: w = {0}\\n\".format(tensor2list(w)))\n",
    "\n",
    "# 학습률\n",
    "alpha = 0.1\n",
    "\n",
    "# 학습데이터 수\n",
    "m = y.size(0)\n",
    "\n",
    "for epoch in range(50):\n",
    "\n",
    "  for i in range(m):\n",
    "    # 이곳을 채우세요.\n",
    "\n",
    "  # 이곳을 채우세요.\n",
    "  \n",
    "  print(\"Epoch {0:d}: w = {1}\".format(epoch+1,tensor2list(w)))"
   ],
   "execution_count": 35,
   "outputs": [
    {
     "output_type": "stream",
     "text": [
      "DATA= [[1. 1.]\n",
      " [2. 2.]\n",
      " [3. 3.]]\n",
      "X= [[1.]\n",
      " [2.]\n",
      " [3.]]\n",
      "Y= [[1.]\n",
      " [2.]\n",
      " [3.]]\n",
      "\n",
      "Init: w = [3.595198154449463]\n",
      "\n",
      "Epoch 1: w = [2.816638708114624]\n",
      "Epoch 2: w = [2.2716469764709473]\n",
      "Epoch 3: w = [1.890152931213379]\n",
      "Epoch 4: w = [1.6231070756912231]\n",
      "Epoch 5: w = [1.436174988746643]\n",
      "Epoch 6: w = [1.305322527885437]\n",
      "Epoch 7: w = [1.2137258052825928]\n",
      "Epoch 8: w = [1.1496080160140991]\n",
      "Epoch 9: w = [1.1047255992889404]\n",
      "Epoch 10: w = [1.0733078718185425]\n",
      "Epoch 11: w = [1.0513155460357666]\n",
      "Epoch 12: w = [1.0359208583831787]\n",
      "Epoch 13: w = [1.0251445770263672]\n",
      "Epoch 14: w = [1.0176012516021729]\n",
      "Epoch 15: w = [1.012320876121521]\n",
      "Epoch 16: w = [1.0086246728897095]\n",
      "Epoch 17: w = [1.0060372352600098]\n",
      "Epoch 18: w = [1.0042260885238647]\n",
      "Epoch 19: w = [1.0029582977294922]\n",
      "Epoch 20: w = [1.0020707845687866]\n",
      "Epoch 21: w = [1.0014495849609375]\n",
      "Epoch 22: w = [1.0010147094726562]\n",
      "Epoch 23: w = [1.0007102489471436]\n",
      "Epoch 24: w = [1.0004972219467163]\n",
      "Epoch 25: w = [1.0003480911254883]\n",
      "Epoch 26: w = [1.0002436637878418]\n",
      "Epoch 27: w = [1.0001705884933472]\n",
      "Epoch 28: w = [1.0001194477081299]\n",
      "Epoch 29: w = [1.000083565711975]\n",
      "Epoch 30: w = [1.0000585317611694]\n",
      "Epoch 31: w = [1.0000410079956055]\n",
      "Epoch 32: w = [1.0000287294387817]\n",
      "Epoch 33: w = [1.000020146369934]\n",
      "Epoch 34: w = [1.000014066696167]\n",
      "Epoch 35: w = [1.0000098943710327]\n",
      "Epoch 36: w = [1.000006914138794]\n",
      "Epoch 37: w = [1.0000048875808716]\n",
      "Epoch 38: w = [1.000003457069397]\n",
      "Epoch 39: w = [1.000002384185791]\n",
      "Epoch 40: w = [1.0000016689300537]\n",
      "Epoch 41: w = [1.0000011920928955]\n",
      "Epoch 42: w = [1.0000008344650269]\n",
      "Epoch 43: w = [1.0000005960464478]\n",
      "Epoch 44: w = [1.0000003576278687]\n",
      "Epoch 45: w = [1.000000238418579]\n",
      "Epoch 46: w = [1.0000001192092896]\n",
      "Epoch 47: w = [1.0000001192092896]\n",
      "Epoch 48: w = [1.0000001192092896]\n",
      "Epoch 49: w = [1.0000001192092896]\n",
      "Epoch 50: w = [1.0000001192092896]\n"
     ],
     "name": "stdout"
    }
   ]
  }
 ]
}